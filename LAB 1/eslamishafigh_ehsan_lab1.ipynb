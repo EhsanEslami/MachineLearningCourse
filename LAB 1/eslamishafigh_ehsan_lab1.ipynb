{
 "cells": [
  {
   "cell_type": "markdown",
   "metadata": {},
   "source": [
    "# Machine Learning LAB 1 \n",
    "Course 2022/23: F. Barbato, M. Mel, P. Zanuttigh\n",
    "\n",
    "The notebook contains some simple tasks to be performed about **classification and regression**. <br>\n",
    "Complete all the **required code sections** and **answer to all the questions**. <br>\n",
    "\n",
    "### IMPORTANT for the evaluation score:\n",
    "1. **Read carefully all cells** and **follow the instructions**\n",
    "1. **Rerun all the code from the beginning** to obtain the results for the final version of your notebook, since this is the way we will do it before evaluating your notebooks.\n",
    "2. Make sure to fill the code in the appropriate places **without modifying the template**, otherwise you risk breaking later cells.\n",
    "3. Please **submit the jupyter notebook file (.ipynb)**, do not submit python scripts (.py) or plain text files. **Make sure that it runs fine with the restat&run all command** - otherwise points will be deduced.\n",
    "4. **Answer the questions in the appropriate cells**, not in the ones where the question is presented."
   ]
  },
  {
   "cell_type": "markdown",
   "metadata": {},
   "source": [
    "## A) Classification of Day/Night"
   ]
  },
  {
   "cell_type": "markdown",
   "metadata": {},
   "source": [
    "Place your **name** and **ID number** (matricola) in the cell below. <br>\n",
    "Also recall to **save the file as Surname_Name_LAB1.ipynb** otherwise your homework could get lost\n",
    "<br>"
   ]
  },
  {
   "cell_type": "markdown",
   "metadata": {},
   "source": [
    "**Student name**: Ehsan Eslami Shafigh <br>\n",
    "**ID Number**: 2070769"
   ]
  },
  {
   "cell_type": "markdown",
   "metadata": {},
   "source": [
    "### Dataset description\n",
    "\n",
    "The data was recorded using the new **Luxottica I-SEE glasses** in exterior conditions. These devices provide multiple **sensors mounted inside the glasses**, which can be accessed through a bluetooth connection. <br>\n",
    "For the **classification** part of the notebook we will focus on the **UVA**, **UVB** and **pressure** sensors, with the goal of discriminating between **day and night** time.\n",
    "\n",
    "![I-SEE Glasses](data/isee.png \"I-SEE\")"
   ]
  },
  {
   "cell_type": "markdown",
   "metadata": {},
   "source": [
    "We first **import** all **the packages** that are needed."
   ]
  },
  {
   "cell_type": "code",
   "execution_count": 1,
   "metadata": {},
   "outputs": [],
   "source": [
    "import csv\n",
    "from matplotlib import pyplot as plt\n",
    "import numpy as np\n",
    "from sklearn import linear_model, preprocessing"
   ]
  },
  {
   "cell_type": "markdown",
   "metadata": {},
   "source": [
    "Change some global settings for layout purposes."
   ]
  },
  {
   "cell_type": "code",
   "execution_count": 2,
   "metadata": {},
   "outputs": [],
   "source": [
    "# if you are in the jupyter notebook environment you can change the 'inline' option with 'notebook' to get interactive plots\n",
    "%matplotlib inline\n",
    "# change the limit on the line length and crop to 0 very small numbers, for clearer printing\n",
    "np.set_printoptions(linewidth=500, suppress=True)"
   ]
  },
  {
   "cell_type": "markdown",
   "metadata": {},
   "source": [
    "## A.1) Perceptron\n",
    "In the following cells we will **implement** the **perceptron** algorithm and use it to learn a halfspace."
   ]
  },
  {
   "cell_type": "markdown",
   "metadata": {},
   "source": [
    "**TO DO (A.1.0):** **Set** the random **seed** using your **ID**. If you need to change it for testing add a constant explicitly, eg.: 1234567 + 1"
   ]
  },
  {
   "cell_type": "code",
   "execution_count": 3,
   "metadata": {},
   "outputs": [],
   "source": [
    "IDnumber = 2070769 + 12365 # YOUR_ID\n",
    "np.random.seed(IDnumber)"
   ]
  },
  {
   "cell_type": "markdown",
   "metadata": {},
   "source": [
    "Before proceding to the training steps, we **load the dataset and split it** in training and test set (the **training** set is **typically larger**, here we use a 75% training 25% test split).\n",
    "The **split** is **performed after applying a random permutation** to the dataset, such permutation will **depend on the seed** you set above. Try different seeds to evaluate the impact of randomization.<br><br>\n",
    "**DO NOT CHANGE THE PRE-WRITTEN CODE UNLESS OTHERWISE SPECIFIED**"
   ]
  },
  {
   "cell_type": "code",
   "execution_count": 4,
   "metadata": {},
   "outputs": [],
   "source": [
    "def load_dset(filename, features=[2,3,9], label_id=-1, mode='clas'):\n",
    "    # Load the dataset\n",
    "    with open(filename, newline='\\n') as f:\n",
    "        raw_data = csv.reader(f, delimiter=',')\n",
    "        header = next(raw_data)                # skip first line\n",
    "        print(f\"Header: {header}\\n\")\n",
    "\n",
    "        dataset = np.array(list(raw_data))\n",
    "        print(f\"Data shape: {dataset.shape}\\n\")\n",
    "        print(\"Dataset Example:\")\n",
    "        print(dataset[0,...])                  # print the first row of the dataset\n",
    "\n",
    "    X = dataset[:,features].astype(float)      # extract the selected features, default refers to the first part of the lab: [uva, uvb, pressure]\n",
    "    if mode == 'clas':\n",
    "        Y = dataset[:,label_id].astype(int)    # if we are in classification mode, get the labels from the provided index as indices\n",
    "        Y = 2*Y-1                              # for the perceptron night --> -1, day --> 1\n",
    "    else:\n",
    "        Y = dataset[:,label_id].astype(float)  # otherwise get them as floats\n",
    "\n",
    "    m = dataset.shape[0]\n",
    "    print(\"\\nNumber of samples loaded:\", m)\n",
    "    permutation = np.random.permutation(m)     # random permutation\n",
    "\n",
    "    X = X[permutation]\n",
    "    Y = Y[permutation]\n",
    "    \n",
    "    return X, Y"
   ]
  },
  {
   "cell_type": "code",
   "execution_count": 5,
   "metadata": {},
   "outputs": [
    {
     "name": "stdout",
     "output_type": "stream",
     "text": [
      "Header: ['rh', 'temp', 'uva', 'uvb', 'x', 'y', 'blueg', 'blueb', 'worn', 'pressure', 'timestamp', 'hour', 'minute', 'second', 'isnight']\n",
      "\n",
      "Data shape: (2177, 15)\n",
      "\n",
      "Dataset Example:\n",
      "['23.846666666666668' '37.21333333333334' '5.577416666666666' '1.6235333333333333' '615.7777777777778' '686.0' '134.0' '117.0' '0.0' '1.000291690654385' '1650458376' '14' '39' '36' '0']\n",
      "\n",
      "Number of samples loaded: 2177\n"
     ]
    }
   ],
   "source": [
    "# Load the dataset\n",
    "X, Y = load_dset('data/lux.csv')"
   ]
  },
  {
   "cell_type": "markdown",
   "metadata": {},
   "source": [
    "We are going to differentiate (classify) between **class \"1\" (day)** and **class \"-1\" (night)**"
   ]
  },
  {
   "cell_type": "markdown",
   "metadata": {},
   "source": [
    "# Split data in training and test sets\n",
    "\n",
    "\n",
    "\n",
    "Given $m$ total data, denote with $m_{t}$ the part used for training. Keep $m_t$ data as training data, and $m_{test}:= m-m_{t}$. <br>\n",
    "For instance one can take $m_t=0.75m$ of the data as training and $m_{test}=0.25m$ as testing. <br>\n",
    "Let us define as define\n",
    "\n",
    "$\\bullet$ $S_{t}$ the training data set\n",
    "\n",
    "$\\bullet$ $S_{test}$ the testing data set\n",
    "\n",
    "\n",
    "The reason for this splitting is as follows:\n",
    "\n",
    "TRAINING DATA: The training data are used to compute the empirical loss\n",
    "$$\n",
    "L_S(h) = \\frac{1}{m_t} \\sum_{z_i \\in S_{t}} \\ell(h,z_i)\n",
    "$$\n",
    "which is used to estimate $h$ in a given model class ${\\cal H}$.\n",
    "i.e. \n",
    "$$\n",
    "\\hat{h} = {\\rm arg\\; min}_{h \\in {\\cal H}} \\, L_S(h)\n",
    "$$\n",
    "\n",
    "TESTING DATA: The test data set can be used to estimate the performance of the final estimated model\n",
    "$\\hat h_{\\hat d_j}$ using:\n",
    "$$\n",
    "L_{{\\cal D}}(\\hat h_{\\hat d_j}) \\simeq \\frac{1}{m_{test}} \\sum_{ z_i \\in S_{test}} \\ell(\\hat h_{\\hat d_j},z_i)\n",
    "$$"
   ]
  },
  {
   "cell_type": "markdown",
   "metadata": {},
   "source": [
    "**TO DO (A.1.1):** **Divide** the **data into training and test set** (**75%** of the data in the **first** set, **25%** in the **second** one). <br>\n",
    "<br>\n",
    "Notice that as is common practice in Statistics and Machine Learning, **we scale the data** (= each variable) so that it is centered **(zero mean)** and has **standard deviation equal to 1**. <br>\n",
    "This helps in terms of numerical conditioning of the (inverse) problems of estimating the model (the coefficients of the linear regression in this case), as well as to give the same scale to all the coefficients."
   ]
  },
  {
   "cell_type": "code",
   "execution_count": 6,
   "metadata": {},
   "outputs": [
    {
     "name": "stdout",
     "output_type": "stream",
     "text": [
      "Number of samples in the train set: 1632\n",
      "Number of samples in the test set: 545\n",
      "\n",
      "Number of night instances in test: 279\n",
      "Number of day instances in test: 266\n",
      "Mean of the training input data: [0. 0. 0.]\n",
      "Std of the training input data: [1. 1. 1.]\n",
      "Mean of the test input data: [0. 0. 0.]\n",
      "Std of the test input data: [1. 1. 1.]\n"
     ]
    }
   ],
   "source": [
    "# compute the splits\n",
    "m_training = int(0.75 * 2177) # ADD YOUR CODE HERE\n",
    "\n",
    "# m_test is the number of samples in the test set (total-training)\n",
    "m_test = int(0.25 * 2177) # ADD YOUR CODE HERE\n",
    "\n",
    "# X_training = instances for training set\n",
    "X_training = X[:m_training] # ADD YOUR CODE HERE\n",
    "# Y_training = labels for the training set\n",
    "Y_training = Y[:m_training] # ADD YOUR CODE HERE\n",
    "\n",
    "# X_test = instances for test set\n",
    "X_test = X[m_training:]  # ADD YOUR CODE HERE\n",
    "# Y_test = labels for the test set\n",
    "Y_test = Y[m_training:] # ADD YOUR CODE HERE\n",
    "\n",
    "print(\"Number of samples in the train set:\", X_training.shape[0])\n",
    "print(\"Number of samples in the test set:\", X_test.shape[0])\n",
    "print(\"\\nNumber of night instances in test:\", np.sum(Y_test==-1))\n",
    "print(\"Number of day instances in test:\", np.sum(Y_test==1))\n",
    "\n",
    "# standardize the input matrix\n",
    "# the transformation is computed on training data and then used on all the 3 sets\n",
    "scaler = preprocessing.StandardScaler().fit(X_training) \n",
    "\n",
    "np.set_printoptions(suppress=True) # sets to zero floating point numbers < min_float_eps\n",
    "X_training = scaler.transform(X_training) # ADD YOUR CODE HERE\n",
    "print (\"Mean of the training input data:\", X_training.mean(axis=0))\n",
    "print (\"Std of the training input data:\",X_training.std(axis=0))\n",
    "\n",
    "scaler = preprocessing.StandardScaler().fit(X_test) \n",
    "\n",
    "np.set_printoptions(suppress=True) # sets to zero floating point numbers < min_float_eps\n",
    "X_test = scaler.transform(X_test) # ADD YOUR CODE HERE # ADD YOUR CODE HERE\n",
    "print (\"Mean of the test input data:\", X_test.mean(axis=0))\n",
    "print (\"Std of the test input data:\", X_test.std(axis=0))"
   ]
  },
  {
   "cell_type": "markdown",
   "metadata": {},
   "source": [
    "We **add a 1 in front of each sample** so that we can use a vector in **homogeneous coordinates** to describe all the coefficients of the model. This can be done with the function $hstack$ in $numpy$."
   ]
  },
  {
   "cell_type": "code",
   "execution_count": 7,
   "metadata": {},
   "outputs": [],
   "source": [
    "def to_homogeneous(X_training, X_test):\n",
    "    # Add a 1 to each sample (homogeneous coordinates)\n",
    "    X_training = np.hstack( [np.ones( (X_training.shape[0], 1) ), X_training] )\n",
    "    X_test = np.hstack( [np.ones( (X_test.shape[0], 1) ), X_test] )\n",
    "    \n",
    "    return X_training, X_test"
   ]
  },
  {
   "cell_type": "code",
   "execution_count": 8,
   "metadata": {},
   "outputs": [
    {
     "name": "stdout",
     "output_type": "stream",
     "text": [
      "Training set in homogeneous coordinates:\n",
      "[[ 1.         -0.46479646 -0.46839989 -0.49596099]\n",
      " [ 1.          1.13993643  1.09228179  0.26013071]\n",
      " [ 1.         -0.00441654 -0.00646381  0.06267336]\n",
      " [ 1.         -0.13945491 -0.14130342 -1.30574039]\n",
      " [ 1.         -0.48498013 -0.46559397 -0.64600969]\n",
      " [ 1.          0.91778499  0.87791775  0.31640212]\n",
      " [ 1.         -0.46083181 -0.46762047 -0.81960195]\n",
      " [ 1.         -0.48524225 -0.4730764  -0.57097781]\n",
      " [ 1.         -0.06256473 -0.06466048  0.65294781]\n",
      " [ 1.         -0.21033804 -0.17066156  1.21766148]]\n",
      "[ 1 -1 -1 -1  1 -1  1  1 -1 -1]\n",
      "(1632,)\n",
      "(1632, 4)\n"
     ]
    }
   ],
   "source": [
    "# convert to homogeneous coordinates using the function above\n",
    "X_training, X_test = to_homogeneous(X_training, X_test)\n",
    "print(\"Training set in homogeneous coordinates:\")\n",
    "print(X_training[:10])\n",
    "print(Y_training[:10])\n",
    "print(np.shape(Y_training))\n",
    "print(np.shape(X_training))"
   ]
  },
  {
   "cell_type": "markdown",
   "metadata": {},
   "source": [
    "**TO DO (A.1.2):** Now **complete** the function *perceptron*. <br>\n",
    "The **perceptron** algorithm **does not terminate** if the **data** is not **linearly separable**, therefore your implementation should **terminate** if it **reached the termination** condition seen in class **or** if a **maximum number of iterations** have already been run, where one **iteration** corresponds to **one update of the perceptron weights**. In case the **termination** is reached **because** the **maximum** number of **iterations** have been completed, the implementation should **return the best model** seen throughout .\n",
    "\n",
    "The input parameters to pass are:\n",
    "- $X$: the matrix of input features, one row for each sample\n",
    "- $Y$: the vector of labels for the input features matrix X\n",
    "- $max\\_num\\_iterations$: the maximum number of iterations for running the perceptron\n",
    "\n",
    "The output values are:\n",
    "- $best\\_w$: the vector with the coefficients of the best model (or the latest, if the termination condition is reached)\n",
    "- $best\\_error$: the *fraction* of misclassified samples for the best model"
   ]
  },
  {
   "cell_type": "code",
   "execution_count": 9,
   "metadata": {},
   "outputs": [],
   "source": [
    "def count_errors(current_w, X, Y):\n",
    "    # This function:\n",
    "    # computes the number of misclassified samples\n",
    "    # returns the index of the first misclassified sample\n",
    "  \n",
    "    pred = np.sign((Y.reshape(X.shape[0],1) * np.inner(X, current_w)).reshape(X.shape[0],)) # ADD YOUR CODE HERE                 # pred must have the same shape as Y, hint: pred = np.sign( ... )\n",
    "    wrong = pred != 1# ADD YOUR CODE HERE                # wrong has the same shape as pred and Y, contains boolean values\n",
    "    num_misclassified = wrong.sum()             # num_misclassified contains the number of wrong predictions\n",
    "    \n",
    "\n",
    "    \n",
    "    if num_misclassified > 0:\n",
    "        index_misclassified = np.where(wrong)[0][0]\n",
    "    else:\n",
    "        index_misclassified = -1 # signaling value for termination\n",
    "    \n",
    "    return num_misclassified, index_misclassified\n",
    "        \n",
    "def perceptron_update(current_w, x, y):\n",
    "    # Place in this function the update rule of the perceptron algorithm\n",
    "    # Remember that numpy arrays can be treated as generalized variables\n",
    "    # therefore given array a = [1,2,3,4], the operation b = 10*a will yield\n",
    "    # b = [10, 20, 30, 40]\n",
    "    new_w = current_w + y[count_errors(current_w, x, y)[1]] * x[count_errors(current_w, x, y)[1]] # ADD YOUR CODE HERE  \n",
    "    return new_w\n",
    "\n",
    "def perceptron(X, Y, max_num_iterations):\n",
    "    \n",
    "    # Initialize some support variables\n",
    "    num_samples = X.shape[0]\n",
    "    # best_errors will keep track of the best (minimum) number of errors\n",
    "    # seen throughout training, used for the update of the best_w variable\n",
    "    best_error = num_samples+1\n",
    "    \n",
    "    # Initialize the weights of the algorith with w=0\n",
    "    curr_w = np.array([np.zeros(X.shape[1])])# ADD YOUR CODE HERE\n",
    "    # The best_w variable will be used to keep track of the best solution\n",
    "    best_w = curr_w.copy()\n",
    "\n",
    "    # compute the number of misclassified samples and the index of the first of them\n",
    "    num_misclassified, index_misclassified = count_errors(curr_w, X, Y)\n",
    "    #print(num_misclassified , index_misclassified )\n",
    "    # update the 'best' variables\n",
    "    if num_misclassified < best_error:\n",
    "        best_error = num_misclassified # ADD YOUR CODE HERE\n",
    "        best_w = curr_w # ADD YOUR CODE HERE\n",
    "    \n",
    "    # initialize the number of iterations\n",
    "    num_iter = 0\n",
    "    # Main loop continue until all samples correctly classified or max # iterations reached\n",
    "    # Remember that to signify that no errors were found we set index_misclassified = -1\n",
    "    while index_misclassified != -1 and num_iter < max_num_iterations:\n",
    "        \n",
    "        # Call the perceptron_update function using the found misclassified sample\n",
    "        curr_w = perceptron_update(curr_w, X, Y) # ADD YOUR CODE HERE\n",
    "        \n",
    "        # permute the dataset \n",
    "        # **IMPORTANT** use the SAME permutation for samples and labels\n",
    "        per = np.random.permutation(num_samples) # ADD YOUR CODE HERE\n",
    "        X = X[per]\n",
    "        Y = Y[per]\n",
    "        \n",
    "        # repeat the error count and best variables update\n",
    "        num_misclassified, index_misclassified = count_errors(curr_w, X, Y)\n",
    "        # update the 'best' variables\n",
    "        if num_misclassified < best_error:\n",
    "            best_error = num_misclassified # ADD YOUR CODE HERE\n",
    "            best_w = curr_w # ADD YOUR CODE HERE\n",
    "        \n",
    "        # update the iteration number\n",
    "        num_iter += 1\n",
    "\n",
    "    # as required, return the best error as a ratio with respect to the total number of samples\n",
    "    best_error = best_error/num_samples # ADD YOUR CODE HERE\n",
    "    \n",
    "    return best_w, best_error\n"
   ]
  },
  {
   "cell_type": "markdown",
   "metadata": {},
   "source": [
    "Now we use the implementation above of the perceptron to learn a model from the training data using 100 iterations and print the error of the best model we have found."
   ]
  },
  {
   "cell_type": "code",
   "execution_count": 10,
   "metadata": {},
   "outputs": [
    {
     "name": "stdout",
     "output_type": "stream",
     "text": [
      "Training Error of perceptron (100 iterations): 0.03553921568627451\n",
      "[[-4.         -4.86645523 -5.10724382  0.12526077]]\n"
     ]
    }
   ],
   "source": [
    "# Now run the perceptron for 100 iterations\n",
    "w_found, error = perceptron(X_training,Y_training, 100)\n",
    "print(\"Training Error of perceptron (100 iterations): \" + str(error))\n",
    "print(w_found)"
   ]
  },
  {
   "cell_type": "markdown",
   "metadata": {},
   "source": [
    "**TO DO (A.1.3):** use the best model $w\\_found$ to **predict the labels for the test dataset** and print the fraction of misclassified samples in the test set (the test error that is an estimate of the true loss)."
   ]
  },
  {
   "cell_type": "code",
   "execution_count": 11,
   "metadata": {},
   "outputs": [
    {
     "name": "stdout",
     "output_type": "stream",
     "text": [
      "Test Error of perceptron (100 iterations): 0.031192660550458717\n"
     ]
    }
   ],
   "source": [
    "num_errors, _ = count_errors(w_found, X_test,Y_test)\n",
    "\n",
    "true_loss_estimate = num_errors/X_test.shape[0]# ADD YOUR CODE HERE     # Error rate on the test set\n",
    "# NOTE: you can avoid using num_errors if you prefer, as long as true_loss_estimate is correct\n",
    "print(\"Test Error of perceptron (100 iterations): \" + str(true_loss_estimate))"
   ]
  },
  {
   "cell_type": "markdown",
   "metadata": {},
   "source": [
    "**TO DO (A.Q1) [Answer the following]** <br>\n",
    "What about the difference between the training error and the test error  in terms of fraction of misclassified samples? Explain what you observe. (Notice that with a very small dataset like this one results can change due to randomization, try to run with different random seeds if you get unexpected results)."
   ]
  },
  {
   "cell_type": "markdown",
   "metadata": {},
   "source": [
    "<div class=\"alert alert-block alert-info\">\n",
    "**ANSWER A.Q1**:<br>\n",
    "As we can see from the results of the previous two cells, the test error is almost always higher then the training error. \n",
    " </div>"
   ]
  },
  {
   "cell_type": "markdown",
   "metadata": {},
   "source": [
    "**TO DO (A.1.4):** Copy the code from the last 2 cells above in the cell below and repeat the training with 3000 iterations. Then print the error in the training set and the estimate of the true loss obtained from the test set."
   ]
  },
  {
   "cell_type": "code",
   "execution_count": 12,
   "metadata": {
    "scrolled": true
   },
   "outputs": [
    {
     "name": "stdout",
     "output_type": "stream",
     "text": [
      "Training Error of perceptron (3000 iterations): 0.02696078431372549\n",
      "Test Error of perceptron (3000 iterations): 0.3357798165137615\n"
     ]
    }
   ],
   "source": [
    "w_found, error = perceptron(X_training,Y_training, 3000)# ADD YOUR CODE HERE  \n",
    "print(\"Training Error of perceptron (3000 iterations): \" + str(error))\n",
    "\n",
    "num_errors, _ = count_errors(w_found, X_test,Y_test) # ADD YOUR CODE HERE  \n",
    "\n",
    "true_loss_estimate = num_errors/X_test.shape[0] # ADD YOUR CODE HERE  \n",
    "print(\"Test Error of perceptron (3000 iterations): \" + str(true_loss_estimate))"
   ]
  },
  {
   "cell_type": "markdown",
   "metadata": {},
   "source": [
    "**TO DO (A.Q2) [Answer the following]** <br>\n",
    "What about the difference between the training error and the test error in terms of the fraction of misclassified samples) when running for a larger number of iterations? Explain what you observe and compare with the previous case."
   ]
  },
  {
   "cell_type": "markdown",
   "metadata": {},
   "source": [
    "<div class=\"alert alert-block alert-info\">\n",
    "**ANSWER A.Q2**:<br>\n",
    "As the previous case, the test error is always higher than the training error, but the difference seems to be a bit smaller in the case of large number of iterations. \n",
    "</div>"
   ]
  },
  {
   "cell_type": "markdown",
   "metadata": {},
   "source": [
    "# A.2) Logistic Regression\n",
    "Now we use **logistic regression**, exploiting the implementation in **Scikit-learn**, to predict labels. We will also plot the decision boundaries of logistic regression.\n",
    "\n",
    "We first load the dataset again."
   ]
  },
  {
   "cell_type": "code",
   "execution_count": 13,
   "metadata": {},
   "outputs": [
    {
     "name": "stdout",
     "output_type": "stream",
     "text": [
      "Header: ['rh', 'temp', 'uva', 'uvb', 'x', 'y', 'blueg', 'blueb', 'worn', 'pressure', 'timestamp', 'hour', 'minute', 'second', 'isnight']\n",
      "\n",
      "Data shape: (2177, 15)\n",
      "\n",
      "Dataset Example:\n",
      "['23.846666666666668' '37.21333333333334' '5.577416666666666' '1.6235333333333333' '615.7777777777778' '686.0' '134.0' '117.0' '0.0' '1.000291690654385' '1650458376' '14' '39' '36' '0']\n",
      "\n",
      "Number of samples loaded: 2177\n"
     ]
    }
   ],
   "source": [
    "# Load the dataset\n",
    "X, Y = load_dset('data/lux.csv')"
   ]
  },
  {
   "cell_type": "markdown",
   "metadata": {},
   "source": [
    "**TO DO (A.2.1):** As for the previous part, **divide the data** into training and test (75%-25%) and **add a 1 as first component** to each sample."
   ]
  },
  {
   "cell_type": "code",
   "execution_count": 14,
   "metadata": {},
   "outputs": [
    {
     "name": "stdout",
     "output_type": "stream",
     "text": [
      "Number of samples in the train set: 1632\n",
      "Number of samples in the test set: 545\n",
      "\n",
      "Number of night instances in test: 269\n",
      "Number of day instances in test: 276\n",
      "Mean of the training input data: [ 0. -0. -0.]\n",
      "Std of the training input data: [1. 1. 1.]\n",
      "Mean of the test input data: [1.53691822 0.43373434 0.99318533]\n",
      "Std of the test input data: [2.88274285 0.88627224 0.003905  ]\n",
      "Training set in homogeneous coordinates:\n",
      "[[ 1.          0.34927227  0.30415097  1.1120607 ]\n",
      " [ 1.         -0.46161602 -0.44450158 -0.31156505]\n",
      " [ 1.          0.42049894  0.38663982 -0.52190567]\n",
      " [ 1.          3.04888497  2.79097492  0.0288013 ]\n",
      " [ 1.         -0.46435551 -0.44528319 -1.54957044]\n",
      " [ 1.          0.0507551   0.04339083  1.21990441]\n",
      " [ 1.         -0.46093115 -0.44821423  1.54452618]\n",
      " [ 1.         -0.46143339 -0.44950389 -1.35774529]\n",
      " [ 1.         -0.45776486 -0.44438264 -1.00957924]\n",
      " [ 1.         -0.46344235 -0.44445273  0.24111393]]\n"
     ]
    }
   ],
   "source": [
    "# compute the splits\n",
    "m_training = int(0.75 * 2177) # ADD YOUR CODE HERE\n",
    "\n",
    "# m_test is the number of samples in the test set (total-training)\n",
    "m_test = int(0.25 * 2177) # ADD YOUR CODE HERE\n",
    "\n",
    "# X_training = instances for training set\n",
    "X_training = X[:m_training] # ADD YOUR CODE HERE\n",
    "# Y_training = labels for the training set\n",
    "Y_training = Y[:m_training] # ADD YOUR CODE HERE\n",
    "\n",
    "# X_test = instances for test set\n",
    "X_test = X[m_training:]  # ADD YOUR CODE HERE\n",
    "# Y_test = labels for the test set\n",
    "Y_test = Y[m_training:] # ADD YOUR CODE HERE\n",
    "\n",
    "print(\"Number of samples in the train set:\", X_training.shape[0])\n",
    "print(\"Number of samples in the test set:\", X_test.shape[0])\n",
    "print(\"\\nNumber of night instances in test:\", np.sum(Y_test==-1))\n",
    "print(\"Number of day instances in test:\", np.sum(Y_test==1))\n",
    "\n",
    "# standardize the input matrix\n",
    "# the transformation is computed on training data and then used on all the 3 sets\n",
    "scaler = preprocessing.StandardScaler().fit(X_training) \n",
    "\n",
    "np.set_printoptions(suppress=True) # sets to zero floating point numbers < min_float_eps\n",
    "X_training = scaler.transform(X_training) # ADD YOUR CODE HERE\n",
    "print (\"Mean of the training input data:\", X_training.mean(axis=0))\n",
    "print (\"Std of the training input data:\",X_training.std(axis=0))\n",
    "\n",
    "scaler = preprocessing.StandardScaler().fit(X_training) \n",
    "\n",
    "np.set_printoptions(suppress=True)\n",
    "X_test = scaler.transform(X_test)  # ADD YOUR CODE HERE\n",
    "print (\"Mean of the test input data:\", X_test.mean(axis=0))\n",
    "print (\"Std of the test input data:\", X_test.std(axis=0))\n",
    "\n",
    "# convert to homogeneous coordinates\n",
    "X_training, X_test = to_homogeneous(X_training, X_test)\n",
    "print(\"Training set in homogeneous coordinates:\")\n",
    "print(X_training[:10])"
   ]
  },
  {
   "cell_type": "markdown",
   "metadata": {},
   "source": [
    "To define a logistic regression model in Scikit-learn use the instruction\n",
    "\n",
    "$linear\\_model.LogisticRegression(C=1e5)$\n",
    "\n",
    "($C$ is a parameter related to *regularization*, a technique that\n",
    "we will see later in the course. Setting it to a high value is almost\n",
    "as ignoring regularization, so the instruction above corresponds to the\n",
    "logistic regression you have seen in class.)\n",
    "\n",
    "To learn the model you need to use the $fit(...)$ instruction and to predict you need to use the $predict(...)$ function. <br>\n",
    "See the Scikit-learn documentation for how to use it [here](https://scikit-learn.org/stable/modules/generated/sklearn.linear_model.LogisticRegression.html).\n",
    "\n",
    "**TO DO (A.2.2):** **Define** the **logistic regression** model, then **learn** the model using **the training set** and **predict** on the **test set**. Then **print** the **fraction of samples misclassified** in the training set and in the test set."
   ]
  },
  {
   "cell_type": "code",
   "execution_count": 15,
   "metadata": {},
   "outputs": [
    {
     "name": "stdout",
     "output_type": "stream",
     "text": [
      "Intercept: [-5.72339024]\n",
      "Coefficients: [[ -5.68174848  57.1774604  -93.77445355   0.77725601]]\n",
      "Error rate on training set: 0.03615196078431373\n",
      "Error rate on test set: 0.9614678899082569\n"
     ]
    }
   ],
   "source": [
    "# part on logistic regression for 2 classes\n",
    "logreg = linear_model.LogisticRegression(C = 10**5) # ADD YOUR CODE HERE  # C should be very large to ignore regularization (see above)\n",
    "\n",
    "# learn from training set: hint use fit(...)\n",
    "logreg.fit(X_training,Y_training)\n",
    "# ADD YOUR CODE HERE\n",
    "print(\"Intercept:\" , logreg.intercept_)\n",
    "print(\"Coefficients:\" , logreg.coef_)\n",
    "\n",
    "# predict on training set\n",
    "predicted_training = logreg.predict(X_training) # ADD YOUR CODE HERE\n",
    "\n",
    "# print the error rate = fraction of misclassified samples\n",
    "error_count_training = (predicted_training != Y_training).sum()\n",
    "error_rate_training = error_count_training/X_training.shape[0] # ADD YOUR CODE HERE\n",
    "print(\"Error rate on training set: \"+str(error_rate_training))\n",
    "\n",
    "# predict on test set\n",
    "predicted_test = logreg.predict(X_test)# ADD YOUR CODE HERE\n",
    "\n",
    "#print the error rate = fraction of misclassified samples\n",
    "error_count_test = (predicted_test != Y_test).sum()\n",
    "error_rate_test = error_count_test/X_test.shape[0] # ADD YOUR CODE HERE\n",
    "print(\"Error rate on test set: \" + str(error_rate_test))"
   ]
  },
  {
   "cell_type": "markdown",
   "metadata": {},
   "source": [
    "**TO DO (A.2.3)** Now **pick two features** and restrict the dataset to include only two features, whose indices are specified in the $idx0$ and $idx1$ variables below. Then split into training and test."
   ]
  },
  {
   "cell_type": "code",
   "execution_count": 16,
   "metadata": {},
   "outputs": [],
   "source": [
    "# we define some additional variables:\n",
    "#    feature_names  == name to display on the plots\n",
    "#    feature_scales == scale (linear/log) to use for that metric\n",
    "# this will be referred to in the following cell - to plot the values\n",
    "feature_names  = [\"UVA\", \"UVB\", \"Atm. Pressure\"]\n",
    "feature_scales = [\"log\", \"log\", \"linear\"]\n",
    "\n",
    "# remember that we selected 3 sensors (uva, uvb, pressure), therefore\n",
    "# to make the plot we need to reduce the data to 2D, so we choose two of them\n",
    "# to do so change the following indices (between 0 and 2, inclusive)\n",
    "idx0 = 0 # ADD YOUR CODE HERE\n",
    "idx1 = 1 # ADD YOUR CODE HERE\n",
    "\n",
    "X_reduced = X[:,[idx0, idx1]]\n",
    "\n",
    "# re-initialize the dataset splits, with the reduced sets\n",
    "X_training = X_reduced[:m_training] # ADD YOUR CODE HERE\n",
    "Y_training = Y[:m_training]# ADD YOUR CODE HERE\n",
    "\n",
    "X_test = X_reduced[m_training:] # ADD YOUR CODE HERE\n",
    "Y_test = Y[m_training:] # ADD YOUR CODE HERE\n"
   ]
  },
  {
   "cell_type": "markdown",
   "metadata": {},
   "source": [
    "Now learn a model using the training data and measure the performances."
   ]
  },
  {
   "cell_type": "code",
   "execution_count": 17,
   "metadata": {},
   "outputs": [
    {
     "name": "stdout",
     "output_type": "stream",
     "text": [
      "Intercept: [2.50992065]\n",
      "Coefficients: [[ 16.43594629 -88.09275695]]\n",
      "Error rate on test set: 0.03302752293577982\n"
     ]
    }
   ],
   "source": [
    "# learning from training data\n",
    "# ADD YOUR CODE HERE\n",
    "logreg = linear_model.LogisticRegression(C = 10**5)\n",
    "logreg.fit(X_training,Y_training)\n",
    "\n",
    "print(\"Intercept:\" , logreg.intercept_)\n",
    "print(\"Coefficients:\" , logreg.coef_)\n",
    "\n",
    "predicted_test = logreg.predict(X_test)\n",
    "\n",
    "\n",
    "# print the error rate = fraction of misclassified samples\n",
    "error_count_test = (predicted_test != Y_test).sum()# ADD YOUR CODE HERE\n",
    "error_rate_test = error_count_test/X_test.shape[0]# ADD YOUR CODE HERE\n",
    "print(\"Error rate on test set: \" + str(error_rate_test))"
   ]
  },
  {
   "cell_type": "markdown",
   "metadata": {},
   "source": [
    "**TO DO (A.Q3) [Answer the following]** <br>\n",
    "Which features did you select and why? <br>\n",
    "Compare the perfomance of the classifiers trained with every combination of two features with that of the baseline (which used all 3 features)."
   ]
  },
  {
   "cell_type": "markdown",
   "metadata": {},
   "source": [
    "<div class=\"alert alert-block alert-info\">\n",
    "**ANSWER A.Q3**:<br>\n",
    "The best choice of the features is the one  in which the scales are the same. So in this case we should choose the UVA and UVB features. Though in any case, the error is much lower compared to the baseline. The reason could be that the model when we use all the three features is more complex and therefore it would need to be trained on a larger set of data. \n",
    "</div>"
   ]
  },
  {
   "cell_type": "markdown",
   "metadata": {},
   "source": [
    "If everything is ok, the code below uses the model in $logreg$ to plot the decision region for the two features chosen above, with colors denoting the predicted value. It also plots the points (with correct labels) in the training set. It makes a similar plot for the test set."
   ]
  },
  {
   "cell_type": "code",
   "execution_count": 18,
   "metadata": {
    "scrolled": true
   },
   "outputs": [
    {
     "data": {
      "image/png": "[encoded data removed]",
      "text/plain": [
       "<Figure size 576x216 with 2 Axes>"
      ]
     },
     "metadata": {},
     "output_type": "display_data"
    }
   ],
   "source": [
    "#firstly we import an additional module to suppress warnings\n",
    "import warnings\n",
    "warnings.filterwarnings(\"ignore\")\n",
    "\n",
    "# Plot the decision boundary. For that, we will assign a color to each\n",
    "# point in the mesh [x_min, x_max]x[y_min, y_max].\n",
    "x_min, x_max = X_reduced[:, 0].min() - .5, X_reduced[:, 0].max() + .5\n",
    "y_min, y_max = X_reduced[:, 1].min() - .5, X_reduced[:, 1].max() + .5\n",
    "xx, yy = np.meshgrid(np.linspace(x_min, x_max, 500), np.linspace(y_min, y_max, 500))\n",
    "\n",
    "Z = logreg.predict(np.c_[xx.ravel(), yy.ravel()])\n",
    "\n",
    "# Put the result into a color plot\n",
    "Z = Z.reshape(xx.shape)\n",
    "\n",
    "# shift all the values to positive, to avoid problems with log-log plots\n",
    "shift = .001 - X_reduced.min(axis=0)\n",
    "\n",
    "fig, axs = plt.subplots(1, 2, figsize=(8,3))\n",
    "axs[0].pcolormesh(xx + shift[0], yy + shift[1], Z, cmap=plt.cm.Set3)\n",
    "axs[1].pcolormesh(xx + shift[0], yy + shift[1], Z, cmap=plt.cm.Set3)\n",
    "\n",
    "# Plot also the training points\n",
    "axs[0].scatter(X_training[:, 0] + shift[0], X_training[:, 1] + shift[1], c=Y_training, edgecolors='k', cmap=plt.cm.Set3)\n",
    "\n",
    "axs[0].set_xlabel(feature_names[idx0])\n",
    "axs[0].set_ylabel(feature_names[idx1])\n",
    "axs[0].set_xscale(feature_scales[idx0])\n",
    "axs[0].set_yscale(feature_scales[idx1])\n",
    "\n",
    "axs[0].set_xlim(xx.min(), xx.max())\n",
    "axs[0].set_ylim(yy.min(), yy.max())\n",
    "axs[0].set_xticks(())\n",
    "axs[0].set_yticks(())\n",
    "axs[0].set_title('Training set')\n",
    "\n",
    "# Plot also the test points \n",
    "axs[1].scatter(X_test[:, 0] + shift[0], X_test[:, 1] + shift[1], c=Y_test, edgecolors='k', cmap=plt.cm.Set3, marker='s')\n",
    "axs[1].set_xlabel(feature_names[idx0])\n",
    "axs[1].set_ylabel(feature_names[idx1])\n",
    "axs[1].set_xscale(feature_scales[idx0])\n",
    "axs[1].set_yscale(feature_scales[idx1])\n",
    "\n",
    "axs[1].set_xlim(xx.min(), xx.max())\n",
    "axs[1].set_ylim(yy.min(), yy.max())\n",
    "axs[1].set_xticks(())\n",
    "axs[1].set_yticks(())\n",
    "axs[1].set_title('Test set')\n",
    "\n",
    "plt.show()\n",
    "\n",
    "# finally turn the warnings back on\n",
    "warnings.filterwarnings(\"default\")"
   ]
  },
  {
   "cell_type": "markdown",
   "metadata": {},
   "source": [
    "# B) Linear Regression on the Atmospheric Conditions\n",
    "\n",
    "As before, these **samples** were **extracted from** a Luxottica **I-SEE** device. <br>\n",
    "For the **second part** of the laboratory we will **focus on linear regression**. We will try to estimate the **atmospheric pressure** starting from **temperature** and **relative humidity**."
   ]
  },
  {
   "cell_type": "markdown",
   "metadata": {},
   "source": [
    "First of all, we load again the dataset. Notice that the indices of the features were changed!"
   ]
  },
  {
   "cell_type": "code",
   "execution_count": 19,
   "metadata": {},
   "outputs": [
    {
     "name": "stdout",
     "output_type": "stream",
     "text": [
      "Header: ['rh', 'temp', 'uva', 'uvb', 'x', 'y', 'blueg', 'blueb', 'worn', 'pressure', 'timestamp', 'hour', 'minute', 'second', 'isnight']\n",
      "\n",
      "Data shape: (2177, 15)\n",
      "\n",
      "Dataset Example:\n",
      "['23.846666666666668' '37.21333333333334' '5.577416666666666' '1.6235333333333333' '615.7777777777778' '686.0' '134.0' '117.0' '0.0' '1.000291690654385' '1650458376' '14' '39' '36' '0']\n",
      "\n",
      "Number of samples loaded: 2177\n"
     ]
    }
   ],
   "source": [
    "# Load the dataset\n",
    "X, Y = load_dset('data/lux.csv', [0,1], 9, mode='reg')"
   ]
  },
  {
   "cell_type": "markdown",
   "metadata": {},
   "source": [
    "**TO DO (B.1)**: split the data in training and test sets (70%-30%)"
   ]
  },
  {
   "cell_type": "code",
   "execution_count": 20,
   "metadata": {},
   "outputs": [
    {
     "name": "stdout",
     "output_type": "stream",
     "text": [
      "Mean of the training input data: [-0. -0.]\n",
      "Std of the training input data: [1. 1.]\n",
      "Mean of the test input data: [30.33434237 29.17127437]\n",
      "Std of the test input data: [3.7748988 5.1816407]\n"
     ]
    }
   ],
   "source": [
    "# compute the splits\n",
    "m_training = int(0.75 * 2177) # ADD YOUR CODE HERE\n",
    "\n",
    "# m_test is the number of samples in the test set (total-training)\n",
    "m_test = int(0.25 * 2177) # ADD YOUR CODE HERE\n",
    "\n",
    "# X_training = instances for training set\n",
    "X_training = X[:m_training] # ADD YOUR CODE HERE\n",
    "# Y_training = labels for the training set\n",
    "Y_training = Y[:m_training] # ADD YOUR CODE HERE\n",
    "\n",
    "# X_test = instances for test set\n",
    "X_test = X[m_training:]  # ADD YOUR CODE HERE\n",
    "# Y_test = labels for the test set\n",
    "Y_test = Y[m_training:] # ADD YOUR CODE HERE\n",
    "\n",
    "# standardize the input matrix\n",
    "# the transformation is computed on training data and then used on all the 3 sets\n",
    "scaler = preprocessing.StandardScaler().fit(X_training) \n",
    "\n",
    "np.set_printoptions(suppress=True) # sets to zero floating point numbers < min_float_eps\n",
    "X_training = scaler.transform(X_training)  # ADD YOUR CODE HERE\n",
    "print (\"Mean of the training input data:\", X_training.mean(axis=0))\n",
    "print (\"Std of the training input data:\",X_training.std(axis=0))\n",
    "\n",
    "scaler = preprocessing.StandardScaler().fit(X_training) \n",
    "\n",
    "np.set_printoptions(suppress=True)\n",
    "X_test = scaler.transform(X_test)  # ADD YOUR CODE HERE\n",
    "print (\"Mean of the test input data:\", X_test.mean(axis=0))\n",
    "print (\"Std of the test input data:\", X_test.std(axis=0))"
   ]
  },
  {
   "cell_type": "markdown",
   "metadata": {},
   "source": [
    "# Model Training \n",
    "\n",
    "The model is trained (= estimated) minimizing the empirical error\n",
    "$$\n",
    "L_S(h) := \\frac{1}{m_t} \\sum_{z_i \\in S_{t}} \\ell(h,z_i)\n",
    "$$\n",
    "When the loss function is the quadratic loss\n",
    "$$\n",
    "\\ell(h,z) := (y - h(x))^2\n",
    "$$\n",
    "we define  the Residual Sum of Squares (RSS) as\n",
    "$$\n",
    "RSS(h):= \\sum_{z_i \\in S_{t}} \\ell(h,z_i) = \\sum_{z_i \\in S_{t}} (y_i - h(x_i))^2\n",
    "$$ so that the training error becomes\n",
    "$$\n",
    "L_S(h) = \\frac{RSS(h)}{m_t}\n",
    "$$\n",
    "\n",
    "We recal that, for linear models we have $h(x) = <w,x>$ and the Empirical error $L_S(h)$ can be written\n",
    "in terms of the vector of parameters $w$ in the form\n",
    "$$\n",
    "L_S(w) = \\frac{1}{m_t} \\|Y - X w\\|^2\n",
    "$$\n",
    "where $Y$ and $X$ are the matrices whose $i-$th row are, respectively, the output data $y_i$ and the input vectors $x_i^\\top$. "
   ]
  },
  {
   "cell_type": "markdown",
   "metadata": {},
   "source": [
    "**TO DO (B.2):** compute the linear regression coefficients using np.linalg.lstsq from scikitlearn"
   ]
  },
  {
   "cell_type": "code",
   "execution_count": 21,
   "metadata": {},
   "outputs": [
    {
     "name": "stdout",
     "output_type": "stream",
     "text": [
      "Training set in homogeneous coordinates:\n",
      "[[ 1.         -1.62013315 -0.63335988]\n",
      " [ 1.          0.64295411 -0.21867594]\n",
      " [ 1.         -0.70858304  0.02475101]\n",
      " [ 1.         -0.89259314 -0.85931429]\n",
      " [ 1.         -2.30416267  0.33115184]\n",
      " [ 1.         -1.06715244 -0.70250717]\n",
      " [ 1.         -0.19951312 -0.69997121]\n",
      " [ 1.          1.11594206  0.09879043]\n",
      " [ 1.          0.93495538 -0.28988889]\n",
      " [ 1.         -0.95223996 -0.8464485 ]]\n",
      "LS coefficients with numpy lstsq: [ 0.99313219 -0.00316834 -0.00003292]\n",
      "RSS with numpy lstsq:  [0.00927554]\n",
      "Empirical risk with numpy lstsq: [0.00000568]\n"
     ]
    }
   ],
   "source": [
    "#add a 1 at the beginning of each sample for training, and testing (use homogeneous coordinates)\n",
    "X_trainingH, X_testH = to_homogeneous(X_training, X_test)  # ADD YOUR CODE HERE\n",
    "\n",
    "print(\"Training set in homogeneous coordinates:\")\n",
    "print(X_trainingH[:10])\n",
    "\n",
    "# Compute the least-squares coefficients using linalg.lstsq\n",
    "w_np, RSStr_np, rank_Xtr, sv_Xtr = np.linalg.lstsq(X_trainingH, Y_training, rcond=None)    # ADD YOUR CODE HERE  # rcond=None avoids warning message\n",
    "\n",
    "print(\"LS coefficients with numpy lstsq:\", w_np)\n",
    "\n",
    "# compute Residual sums of squares \n",
    "Y_trainingR = Y_training  # recall that in Python 1D array of size n and 2D matrix nx1 are different\n",
    "RSStr_train = RSStr_np # ADD YOUR CODE HERE # compute error\n",
    "\n",
    "print(\"RSS with numpy lstsq: \", RSStr_np)\n",
    "print(\"Empirical risk with numpy lstsq:\", RSStr_np/m_training)"
   ]
  },
  {
   "cell_type": "markdown",
   "metadata": {},
   "source": [
    "## Data prediction \n",
    "\n",
    "Compute the output predictions on both training and validation set.and compute the Residual Sum of Sqaures (RSS). "
   ]
  },
  {
   "cell_type": "markdown",
   "metadata": {},
   "source": [
    "**TO DO (B.3)**: Compute these quantities on  training, validation and test sets."
   ]
  },
  {
   "cell_type": "code",
   "execution_count": 22,
   "metadata": {},
   "outputs": [
    {
     "name": "stdout",
     "output_type": "stream",
     "text": [
      "RSS on test data: 5.16619699815126\n",
      "Loss estimated from test data: 0.009496685658366286\n"
     ]
    }
   ],
   "source": [
    "#compute predictions on training and validation\n",
    "\n",
    "#prediction_training \n",
    "prediction_training = w_np * X_trainingH  # ADD YOUR CODE HERE\n",
    "prediction_test = w_np * X_testH  # ADD YOUR CODE HERE\n",
    "\n",
    "#what about the loss for points in the test data?\n",
    "RSS_test = ((np.inner(w_np , X_testH) - Y_test) ** 2).sum() # ADD YOUR CODE HERE\n",
    "\n",
    "print(\"RSS on test data:\",  RSS_test)\n",
    "print(\"Loss estimated from test data:\", RSS_test/m_test)"
   ]
  },
  {
   "cell_type": "markdown",
   "metadata": {},
   "source": [
    "**TO DO (B.Q1) [Answer the following]** <br>\n",
    "Comment on the results you get and on the difference between the train and test errors."
   ]
  },
  {
   "cell_type": "markdown",
   "metadata": {},
   "source": [
    "<div class=\"alert alert-block alert-info\">\n",
    "**ANSWER B.Q1**:<br>\n",
    "Just like the previous cases, the test error is higher than the training error. \n",
    "</div>"
   ]
  },
  {
   "cell_type": "markdown",
   "metadata": {},
   "source": [
    "Now let's plot the data and check our estimation result."
   ]
  },
  {
   "cell_type": "code",
   "execution_count": 23,
   "metadata": {},
   "outputs": [
    {
     "ename": "ValueError",
     "evalue": "shape mismatch: objects cannot be broadcast to a single shape",
     "output_type": "error",
     "traceback": [
      "\u001b[1;31m---------------------------------------------------------------------------\u001b[0m",
      "\u001b[1;31mValueError\u001b[0m                                Traceback (most recent call last)",
      "Input \u001b[1;32mIn [23]\u001b[0m, in \u001b[0;36m<cell line: 5>\u001b[1;34m()\u001b[0m\n\u001b[0;32m      3\u001b[0m ax1 \u001b[38;5;241m=\u001b[39m fig\u001b[38;5;241m.\u001b[39madd_subplot(\u001b[38;5;241m1\u001b[39m, \u001b[38;5;241m2\u001b[39m, \u001b[38;5;241m1\u001b[39m, projection\u001b[38;5;241m=\u001b[39m\u001b[38;5;124m'\u001b[39m\u001b[38;5;124m3d\u001b[39m\u001b[38;5;124m'\u001b[39m)\n\u001b[0;32m      4\u001b[0m ax1\u001b[38;5;241m.\u001b[39mscatter(X_training[:,\u001b[38;5;241m0\u001b[39m], X_training[:,\u001b[38;5;241m1\u001b[39m], Y_training, label\u001b[38;5;241m=\u001b[39m\u001b[38;5;124m\"\u001b[39m\u001b[38;5;124mInput Data\u001b[39m\u001b[38;5;124m\"\u001b[39m)\n\u001b[1;32m----> 5\u001b[0m \u001b[43max1\u001b[49m\u001b[38;5;241;43m.\u001b[39;49m\u001b[43mscatter\u001b[49m\u001b[43m(\u001b[49m\u001b[43mX_training\u001b[49m\u001b[43m[\u001b[49m\u001b[43m:\u001b[49m\u001b[43m,\u001b[49m\u001b[38;5;241;43m0\u001b[39;49m\u001b[43m]\u001b[49m\u001b[43m,\u001b[49m\u001b[43m \u001b[49m\u001b[43mX_training\u001b[49m\u001b[43m[\u001b[49m\u001b[43m:\u001b[49m\u001b[43m,\u001b[49m\u001b[38;5;241;43m1\u001b[39;49m\u001b[43m]\u001b[49m\u001b[43m,\u001b[49m\u001b[43m \u001b[49m\u001b[43mprediction_training\u001b[49m\u001b[43m,\u001b[49m\u001b[43m \u001b[49m\u001b[43mlabel\u001b[49m\u001b[38;5;241;43m=\u001b[39;49m\u001b[38;5;124;43m\"\u001b[39;49m\u001b[38;5;124;43mPrediction Data\u001b[39;49m\u001b[38;5;124;43m\"\u001b[39;49m\u001b[43m)\u001b[49m\n\u001b[0;32m      6\u001b[0m ax1\u001b[38;5;241m.\u001b[39mset_xlabel(\u001b[38;5;124m\"\u001b[39m\u001b[38;5;124mNorm. Temperature\u001b[39m\u001b[38;5;124m\"\u001b[39m)\n\u001b[0;32m      7\u001b[0m ax1\u001b[38;5;241m.\u001b[39mset_ylabel(\u001b[38;5;124m\"\u001b[39m\u001b[38;5;124mNorm. Relative Humidity\u001b[39m\u001b[38;5;124m\"\u001b[39m)\n",
      "File \u001b[1;32m~\\anaconda3\\lib\\site-packages\\matplotlib\\__init__.py:1412\u001b[0m, in \u001b[0;36m_preprocess_data.<locals>.inner\u001b[1;34m(ax, data, *args, **kwargs)\u001b[0m\n\u001b[0;32m   1409\u001b[0m \u001b[38;5;129m@functools\u001b[39m\u001b[38;5;241m.\u001b[39mwraps(func)\n\u001b[0;32m   1410\u001b[0m \u001b[38;5;28;01mdef\u001b[39;00m \u001b[38;5;21minner\u001b[39m(ax, \u001b[38;5;241m*\u001b[39margs, data\u001b[38;5;241m=\u001b[39m\u001b[38;5;28;01mNone\u001b[39;00m, \u001b[38;5;241m*\u001b[39m\u001b[38;5;241m*\u001b[39mkwargs):\n\u001b[0;32m   1411\u001b[0m     \u001b[38;5;28;01mif\u001b[39;00m data \u001b[38;5;129;01mis\u001b[39;00m \u001b[38;5;28;01mNone\u001b[39;00m:\n\u001b[1;32m-> 1412\u001b[0m         \u001b[38;5;28;01mreturn\u001b[39;00m func(ax, \u001b[38;5;241m*\u001b[39m\u001b[38;5;28mmap\u001b[39m(sanitize_sequence, args), \u001b[38;5;241m*\u001b[39m\u001b[38;5;241m*\u001b[39mkwargs)\n\u001b[0;32m   1414\u001b[0m     bound \u001b[38;5;241m=\u001b[39m new_sig\u001b[38;5;241m.\u001b[39mbind(ax, \u001b[38;5;241m*\u001b[39margs, \u001b[38;5;241m*\u001b[39m\u001b[38;5;241m*\u001b[39mkwargs)\n\u001b[0;32m   1415\u001b[0m     auto_label \u001b[38;5;241m=\u001b[39m (bound\u001b[38;5;241m.\u001b[39marguments\u001b[38;5;241m.\u001b[39mget(label_namer)\n\u001b[0;32m   1416\u001b[0m                   \u001b[38;5;129;01mor\u001b[39;00m bound\u001b[38;5;241m.\u001b[39mkwargs\u001b[38;5;241m.\u001b[39mget(label_namer))\n",
      "File \u001b[1;32m~\\anaconda3\\lib\\site-packages\\mpl_toolkits\\mplot3d\\axes3d.py:2379\u001b[0m, in \u001b[0;36mAxes3D.scatter\u001b[1;34m(self, xs, ys, zs, zdir, s, c, depthshade, *args, **kwargs)\u001b[0m\n\u001b[0;32m   2376\u001b[0m had_data \u001b[38;5;241m=\u001b[39m \u001b[38;5;28mself\u001b[39m\u001b[38;5;241m.\u001b[39mhas_data()\n\u001b[0;32m   2377\u001b[0m zs_orig \u001b[38;5;241m=\u001b[39m zs\n\u001b[1;32m-> 2379\u001b[0m xs, ys, zs \u001b[38;5;241m=\u001b[39m \u001b[43mnp\u001b[49m\u001b[38;5;241;43m.\u001b[39;49m\u001b[43mbroadcast_arrays\u001b[49m\u001b[43m(\u001b[49m\n\u001b[0;32m   2380\u001b[0m \u001b[43m    \u001b[49m\u001b[38;5;241;43m*\u001b[39;49m\u001b[43m[\u001b[49m\u001b[43mnp\u001b[49m\u001b[38;5;241;43m.\u001b[39;49m\u001b[43mravel\u001b[49m\u001b[43m(\u001b[49m\u001b[43mnp\u001b[49m\u001b[38;5;241;43m.\u001b[39;49m\u001b[43mma\u001b[49m\u001b[38;5;241;43m.\u001b[39;49m\u001b[43mfilled\u001b[49m\u001b[43m(\u001b[49m\u001b[43mt\u001b[49m\u001b[43m,\u001b[49m\u001b[43m \u001b[49m\u001b[43mnp\u001b[49m\u001b[38;5;241;43m.\u001b[39;49m\u001b[43mnan\u001b[49m\u001b[43m)\u001b[49m\u001b[43m)\u001b[49m\u001b[43m \u001b[49m\u001b[38;5;28;43;01mfor\u001b[39;49;00m\u001b[43m \u001b[49m\u001b[43mt\u001b[49m\u001b[43m \u001b[49m\u001b[38;5;129;43;01min\u001b[39;49;00m\u001b[43m \u001b[49m\u001b[43m[\u001b[49m\u001b[43mxs\u001b[49m\u001b[43m,\u001b[49m\u001b[43m \u001b[49m\u001b[43mys\u001b[49m\u001b[43m,\u001b[49m\u001b[43m \u001b[49m\u001b[43mzs\u001b[49m\u001b[43m]\u001b[49m\u001b[43m]\u001b[49m\u001b[43m)\u001b[49m\n\u001b[0;32m   2381\u001b[0m s \u001b[38;5;241m=\u001b[39m np\u001b[38;5;241m.\u001b[39mma\u001b[38;5;241m.\u001b[39mravel(s)  \u001b[38;5;66;03m# This doesn't have to match x, y in size.\u001b[39;00m\n\u001b[0;32m   2383\u001b[0m xs, ys, zs, s, c \u001b[38;5;241m=\u001b[39m cbook\u001b[38;5;241m.\u001b[39mdelete_masked_points(xs, ys, zs, s, c)\n",
      "File \u001b[1;32m<__array_function__ internals>:5\u001b[0m, in \u001b[0;36mbroadcast_arrays\u001b[1;34m(*args, **kwargs)\u001b[0m\n",
      "File \u001b[1;32m~\\anaconda3\\lib\\site-packages\\numpy\\lib\\stride_tricks.py:538\u001b[0m, in \u001b[0;36mbroadcast_arrays\u001b[1;34m(subok, *args)\u001b[0m\n\u001b[0;32m    531\u001b[0m \u001b[38;5;66;03m# nditer is not used here to avoid the limit of 32 arrays.\u001b[39;00m\n\u001b[0;32m    532\u001b[0m \u001b[38;5;66;03m# Otherwise, something like the following one-liner would suffice:\u001b[39;00m\n\u001b[0;32m    533\u001b[0m \u001b[38;5;66;03m# return np.nditer(args, flags=['multi_index', 'zerosize_ok'],\u001b[39;00m\n\u001b[0;32m    534\u001b[0m \u001b[38;5;66;03m#                  order='C').itviews\u001b[39;00m\n\u001b[0;32m    536\u001b[0m args \u001b[38;5;241m=\u001b[39m [np\u001b[38;5;241m.\u001b[39marray(_m, copy\u001b[38;5;241m=\u001b[39m\u001b[38;5;28;01mFalse\u001b[39;00m, subok\u001b[38;5;241m=\u001b[39msubok) \u001b[38;5;28;01mfor\u001b[39;00m _m \u001b[38;5;129;01min\u001b[39;00m args]\n\u001b[1;32m--> 538\u001b[0m shape \u001b[38;5;241m=\u001b[39m \u001b[43m_broadcast_shape\u001b[49m\u001b[43m(\u001b[49m\u001b[38;5;241;43m*\u001b[39;49m\u001b[43margs\u001b[49m\u001b[43m)\u001b[49m\n\u001b[0;32m    540\u001b[0m \u001b[38;5;28;01mif\u001b[39;00m \u001b[38;5;28mall\u001b[39m(array\u001b[38;5;241m.\u001b[39mshape \u001b[38;5;241m==\u001b[39m shape \u001b[38;5;28;01mfor\u001b[39;00m array \u001b[38;5;129;01min\u001b[39;00m args):\n\u001b[0;32m    541\u001b[0m     \u001b[38;5;66;03m# Common case where nothing needs to be broadcasted.\u001b[39;00m\n\u001b[0;32m    542\u001b[0m     \u001b[38;5;28;01mreturn\u001b[39;00m args\n",
      "File \u001b[1;32m~\\anaconda3\\lib\\site-packages\\numpy\\lib\\stride_tricks.py:420\u001b[0m, in \u001b[0;36m_broadcast_shape\u001b[1;34m(*args)\u001b[0m\n\u001b[0;32m    415\u001b[0m \u001b[38;5;124;03m\"\"\"Returns the shape of the arrays that would result from broadcasting the\u001b[39;00m\n\u001b[0;32m    416\u001b[0m \u001b[38;5;124;03msupplied arrays against each other.\u001b[39;00m\n\u001b[0;32m    417\u001b[0m \u001b[38;5;124;03m\"\"\"\u001b[39;00m\n\u001b[0;32m    418\u001b[0m \u001b[38;5;66;03m# use the old-iterator because np.nditer does not handle size 0 arrays\u001b[39;00m\n\u001b[0;32m    419\u001b[0m \u001b[38;5;66;03m# consistently\u001b[39;00m\n\u001b[1;32m--> 420\u001b[0m b \u001b[38;5;241m=\u001b[39m \u001b[43mnp\u001b[49m\u001b[38;5;241;43m.\u001b[39;49m\u001b[43mbroadcast\u001b[49m\u001b[43m(\u001b[49m\u001b[38;5;241;43m*\u001b[39;49m\u001b[43margs\u001b[49m\u001b[43m[\u001b[49m\u001b[43m:\u001b[49m\u001b[38;5;241;43m32\u001b[39;49m\u001b[43m]\u001b[49m\u001b[43m)\u001b[49m\n\u001b[0;32m    421\u001b[0m \u001b[38;5;66;03m# unfortunately, it cannot handle 32 or more arguments directly\u001b[39;00m\n\u001b[0;32m    422\u001b[0m \u001b[38;5;28;01mfor\u001b[39;00m pos \u001b[38;5;129;01min\u001b[39;00m \u001b[38;5;28mrange\u001b[39m(\u001b[38;5;241m32\u001b[39m, \u001b[38;5;28mlen\u001b[39m(args), \u001b[38;5;241m31\u001b[39m):\n\u001b[0;32m    423\u001b[0m     \u001b[38;5;66;03m# ironically, np.broadcast does not properly handle np.broadcast\u001b[39;00m\n\u001b[0;32m    424\u001b[0m     \u001b[38;5;66;03m# objects (it treats them as scalars)\u001b[39;00m\n\u001b[0;32m    425\u001b[0m     \u001b[38;5;66;03m# use broadcasting to avoid allocating the full array\u001b[39;00m\n",
      "\u001b[1;31mValueError\u001b[0m: shape mismatch: objects cannot be broadcast to a single shape"
     ]
    },
    {
     "data": {
      "image/png": "[encoded data removed]",
      "text/plain": [
       "<Figure size 720x1296 with 1 Axes>"
      ]
     },
     "metadata": {
      "needs_background": "light"
     },
     "output_type": "display_data"
    }
   ],
   "source": [
    "fig = plt.figure(figsize=(10,18))\n",
    "\n",
    "ax1 = fig.add_subplot(1, 2, 1, projection='3d')\n",
    "ax1.scatter(X_training[:,0], X_training[:,1], Y_training, label=\"Input Data\")\n",
    "ax1.scatter(X_training[:,0], X_training[:,1], prediction_training, label=\"Prediction Data\")\n",
    "ax1.set_xlabel(\"Norm. Temperature\")\n",
    "ax1.set_ylabel(\"Norm. Relative Humidity\")\n",
    "ax1.set_zlabel(\"Norm. Atm. Pressure\")\n",
    "ax1.set_title(\"Training Set\")\n",
    "ax1.legend()\n",
    "\n",
    "ax2 = fig.add_subplot(1, 2, 2, projection='3d')\n",
    "ax2.scatter(X_test[:,0], X_test[:,1], Y_test, label=\"Input Data\")\n",
    "ax2.scatter(X_test[:,0], X_test[:,1], prediction_test, label=\"Prediction Data\")\n",
    "ax2.set_xlabel(\"Norm. Temperature\")\n",
    "ax2.set_ylabel(\"Norm. Relative Humidity\")\n",
    "ax2.set_zlabel(\"Norm. Atm. Pressure\")\n",
    "ax2.set_title(\"Test Set\")\n",
    "ax2.legend()\n",
    "plt.show()"
   ]
  },
  {
   "cell_type": "markdown",
   "metadata": {},
   "source": [
    "## Ordinary Least-Squares using scikit-learn\n",
    "Another fast way to compute the LS estimate is through sklearn.linear_model"
   ]
  },
  {
   "cell_type": "code",
   "execution_count": null,
   "metadata": {},
   "outputs": [],
   "source": [
    "LinReg = linear_model.LinearRegression()  # build the object LinearRegression\n",
    "LinReg.fit(X_training, Y_training)  # estimate the LS coefficients\n",
    "print(\"Intercept:\", LinReg.intercept_)\n",
    "print(\"Least-Squares Coefficients:\", LinReg.coef_)\n",
    "prediction_training = LinReg.predict(X_training)  # predict output values on training set\n",
    "prediction_test = LinReg.predict(X_test)  # predict output values on test set\n",
    "print(\"Measure on training data:\", 1-LinReg.score(X_training, Y_training))"
   ]
  },
  {
   "cell_type": "code",
   "execution_count": null,
   "metadata": {},
   "outputs": [],
   "source": []
  },
  {
   "cell_type": "code",
   "execution_count": null,
   "metadata": {},
   "outputs": [],
   "source": []
  }
 ],
 "metadata": {
  "anaconda-cloud": {},
  "kernelspec": {
   "display_name": "Python 3 (ipykernel)",
   "language": "python",
   "name": "python3"
  },
  "language_info": {
   "codemirror_mode": {
    "name": "ipython",
    "version": 3
   },
   "file_extension": ".py",
   "mimetype": "text/x-python",
   "name": "python",
   "nbconvert_exporter": "python",
   "pygments_lexer": "ipython3",
   "version": "3.9.12"
  }
 },
 "nbformat": 4,
 "nbformat_minor": 4
}
