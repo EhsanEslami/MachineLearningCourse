{
 "cells": [
  {
   "cell_type": "code",
   "execution_count": 33,
   "id": "49b05e6c",
   "metadata": {},
   "outputs": [
    {
     "name": "stdout",
     "output_type": "stream",
     "text": [
      "[ 1 -1  1]\n",
      "[False  True False]\n",
      "1\n"
     ]
    }
   ],
   "source": [
    "import numpy as np\n",
    "\n",
    "x = np.array([[1 , 3 , 5 ,7] , [1, 5 , 9 , 10], [7,10 ,1 ,3]])\n",
    "y = np.array([1 , -1 , 1])\n",
    "w = np.array([[1,2,3,4]])\n",
    "\n",
    "pred = np.sign(y.reshape(3,1) * np.inner(x,w)).reshape(3,)\n",
    "wrong = pred == -1\n",
    "print(pred)\n",
    "print(wrong)\n",
    "print(np.where(wrong)[0][0])"
   ]
  },
  {
   "cell_type": "code",
   "execution_count": 36,
   "id": "3d4ccac5",
   "metadata": {},
   "outputs": [
    {
     "name": "stdout",
     "output_type": "stream",
     "text": [
      "2\n"
     ]
    }
   ],
   "source": [
    "def func():\n",
    "    \n",
    "    return 1, 2\n",
    "\n",
    "print(func()[1])"
   ]
  },
  {
   "cell_type": "code",
   "execution_count": 41,
   "id": "59c75f75",
   "metadata": {},
   "outputs": [
    {
     "name": "stdout",
     "output_type": "stream",
     "text": [
      "[0 2 1]\n",
      "[[ 1  3  4]\n",
      " [ 5  4  3]\n",
      " [ 7  6 10]]\n"
     ]
    }
   ],
   "source": [
    "x = np.array([[1,3,4] , [7,6,10], [5, 4,3]])\n",
    "m = np.random.permutation(3)\n",
    "print(m)\n",
    "x = x[m]\n",
    "print(x)"
   ]
  },
  {
   "cell_type": "code",
   "execution_count": 43,
   "id": "8068190a",
   "metadata": {},
   "outputs": [
    {
     "name": "stdout",
     "output_type": "stream",
     "text": [
      "(1, 2)\n"
     ]
    }
   ],
   "source": [
    "x = np.array([[1 , 2]])\n",
    "print(x.shape[])"
   ]
  },
  {
   "cell_type": "code",
   "execution_count": 45,
   "id": "cc93d7db",
   "metadata": {},
   "outputs": [
    {
     "name": "stdout",
     "output_type": "stream",
     "text": [
      "[[0. 0. 0. 0.]]\n"
     ]
    }
   ],
   "source": [
    "x = np.array([np.zeros(4)])\n",
    "print(x)"
   ]
  },
  {
   "cell_type": "code",
   "execution_count": 46,
   "id": "c5e1cb28",
   "metadata": {},
   "outputs": [
    {
     "name": "stdout",
     "output_type": "stream",
     "text": [
      "[0 0 1]\n"
     ]
    }
   ],
   "source": [
    "print(np.sign([0 , 0 ,1]))"
   ]
  },
  {
   "cell_type": "code",
   "execution_count": null,
   "id": "d260bcdf",
   "metadata": {},
   "outputs": [],
   "source": []
  }
 ],
 "metadata": {
  "kernelspec": {
   "display_name": "Python 3 (ipykernel)",
   "language": "python",
   "name": "python3"
  },
  "language_info": {
   "codemirror_mode": {
    "name": "ipython",
    "version": 3
   },
   "file_extension": ".py",
   "mimetype": "text/x-python",
   "name": "python",
   "nbconvert_exporter": "python",
   "pygments_lexer": "ipython3",
   "version": "3.9.12"
  }
 },
 "nbformat": 4,
 "nbformat_minor": 5
}
