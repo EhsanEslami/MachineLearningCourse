{
 "cells": [
  {
   "cell_type": "code",
   "execution_count": 2,
   "id": "8af4e7c5",
   "metadata": {},
   "outputs": [
    {
     "name": "stdout",
     "output_type": "stream",
     "text": [
      "[8 9 1 0 7 5 2 3 6 4]\n"
     ]
    }
   ],
   "source": [
    "import numpy as np\n",
    "m = 10\n",
    "permutation = np.random.permutation(m)\n",
    "\n",
    "print(permutation)"
   ]
  },
  {
   "cell_type": "code",
   "execution_count": 4,
   "id": "10f606ea",
   "metadata": {},
   "outputs": [
    {
     "ename": "ValueError",
     "evalue": "too many values to unpack (expected 2)",
     "output_type": "error",
     "traceback": [
      "\u001b[1;31m---------------------------------------------------------------------------\u001b[0m",
      "\u001b[1;31mValueError\u001b[0m                                Traceback (most recent call last)",
      "Input \u001b[1;32mIn [4]\u001b[0m, in \u001b[0;36m<cell line: 3>\u001b[1;34m()\u001b[0m\n\u001b[0;32m      1\u001b[0m a \u001b[38;5;241m=\u001b[39m np\u001b[38;5;241m.\u001b[39marray([\u001b[38;5;241m1\u001b[39m, \u001b[38;5;241m2\u001b[39m , \u001b[38;5;241m3\u001b[39m])\n\u001b[1;32m----> 3\u001b[0m label, frequency \u001b[38;5;241m=\u001b[39m np\u001b[38;5;241m.\u001b[39munique(a)\n",
      "\u001b[1;31mValueError\u001b[0m: too many values to unpack (expected 2)"
     ]
    }
   ],
   "source": [
    "a = np.array([1, 2 , 3])\n",
    "\n",
    "label, frequency = np.unique(a)"
   ]
  },
  {
   "cell_type": "code",
   "execution_count": null,
   "id": "f1701503",
   "metadata": {},
   "outputs": [],
   "source": []
  }
 ],
 "metadata": {
  "kernelspec": {
   "display_name": "Python 3 (ipykernel)",
   "language": "python",
   "name": "python3"
  },
  "language_info": {
   "codemirror_mode": {
    "name": "ipython",
    "version": 3
   },
   "file_extension": ".py",
   "mimetype": "text/x-python",
   "name": "python",
   "nbconvert_exporter": "python",
   "pygments_lexer": "ipython3",
   "version": "3.9.12"
  }
 },
 "nbformat": 4,
 "nbformat_minor": 5
}
